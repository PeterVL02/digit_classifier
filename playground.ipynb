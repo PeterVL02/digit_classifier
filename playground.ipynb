{
 "cells": [
  {
   "cell_type": "code",
   "execution_count": 1,
   "metadata": {},
   "outputs": [],
   "source": [
    "from Conv_Model import Conv_Net, dataprep, Trainer\n",
    "from Flat_Model import Linear_Net\n",
    "from main import plot_loss\n",
    "\n",
    "import numpy as np\n",
    "from sklearn.model_selection import train_test_split\n",
    "from sklearn import datasets\n",
    "import matplotlib.pyplot as plt"
   ]
  },
  {
   "cell_type": "code",
   "execution_count": 2,
   "metadata": {},
   "outputs": [
    {
     "name": "stdout",
     "output_type": "stream",
     "text": [
      "\n",
      "Epoch: 1/3, Model: Linear_Net\n"
     ]
    },
    {
     "name": "stderr",
     "output_type": "stream",
     "text": [
      "100%|##########| 1437/1437 [00:02<00:00, 594.17it/s]\n"
     ]
    },
    {
     "name": "stdout",
     "output_type": "stream",
     "text": [
      "Epoch 1 Accuracy: 0.7981906750173974\n",
      "\n",
      "Epoch: 2/3, Model: Linear_Net\n"
     ]
    },
    {
     "name": "stderr",
     "output_type": "stream",
     "text": [
      "100%|##########| 1437/1437 [00:01<00:00, 745.84it/s]\n"
     ]
    },
    {
     "name": "stdout",
     "output_type": "stream",
     "text": [
      "Epoch 2 Accuracy: 0.9387613082811412\n",
      "\n",
      "Epoch: 3/3, Model: Linear_Net\n"
     ]
    },
    {
     "name": "stderr",
     "output_type": "stream",
     "text": [
      "100%|##########| 1437/1437 [00:01<00:00, 752.41it/s]\n"
     ]
    },
    {
     "name": "stdout",
     "output_type": "stream",
     "text": [
      "Epoch 3 Accuracy: 0.9450243562978428\n",
      "\n",
      "Epoch: 1/8, Model: Conv_Net\n"
     ]
    },
    {
     "name": "stderr",
     "output_type": "stream",
     "text": [
      "100%|##########| 1437/1437 [00:02<00:00, 545.07it/s]\n"
     ]
    },
    {
     "name": "stdout",
     "output_type": "stream",
     "text": [
      "Epoch 1 Accuracy: 0.5010438413361169\n",
      "\n",
      "Epoch: 2/8, Model: Conv_Net\n"
     ]
    },
    {
     "name": "stderr",
     "output_type": "stream",
     "text": [
      "100%|##########| 1437/1437 [00:02<00:00, 610.59it/s]\n"
     ]
    },
    {
     "name": "stdout",
     "output_type": "stream",
     "text": [
      "Epoch 2 Accuracy: 0.8197633959638135\n",
      "\n",
      "Epoch: 3/8, Model: Conv_Net\n"
     ]
    },
    {
     "name": "stderr",
     "output_type": "stream",
     "text": [
      "100%|##########| 1437/1437 [00:02<00:00, 603.83it/s]\n"
     ]
    },
    {
     "name": "stdout",
     "output_type": "stream",
     "text": [
      "Epoch 3 Accuracy: 0.8782185107863605\n",
      "\n",
      "Epoch: 4/8, Model: Conv_Net\n"
     ]
    },
    {
     "name": "stderr",
     "output_type": "stream",
     "text": [
      "100%|##########| 1437/1437 [00:02<00:00, 573.88it/s]\n"
     ]
    },
    {
     "name": "stdout",
     "output_type": "stream",
     "text": [
      "Epoch 4 Accuracy: 0.9109255393180237\n",
      "\n",
      "Epoch: 5/8, Model: Conv_Net\n"
     ]
    },
    {
     "name": "stderr",
     "output_type": "stream",
     "text": [
      "100%|##########| 1437/1437 [00:02<00:00, 543.04it/s]\n"
     ]
    },
    {
     "name": "stdout",
     "output_type": "stream",
     "text": [
      "Epoch 5 Accuracy: 0.9213639526791928\n",
      "\n",
      "Epoch: 6/8, Model: Conv_Net\n"
     ]
    },
    {
     "name": "stderr",
     "output_type": "stream",
     "text": [
      "100%|##########| 1437/1437 [00:02<00:00, 582.36it/s]\n"
     ]
    },
    {
     "name": "stdout",
     "output_type": "stream",
     "text": [
      "Epoch 6 Accuracy: 0.9276270006958942\n",
      "\n",
      "Epoch: 7/8, Model: Conv_Net\n"
     ]
    },
    {
     "name": "stderr",
     "output_type": "stream",
     "text": [
      "100%|##########| 1437/1437 [00:02<00:00, 583.32it/s]\n"
     ]
    },
    {
     "name": "stdout",
     "output_type": "stream",
     "text": [
      "Epoch 7 Accuracy: 0.9457202505219207\n",
      "\n",
      "Epoch: 8/8, Model: Conv_Net\n"
     ]
    },
    {
     "name": "stderr",
     "output_type": "stream",
     "text": [
      "100%|##########| 1437/1437 [00:02<00:00, 564.86it/s]\n"
     ]
    },
    {
     "name": "stdout",
     "output_type": "stream",
     "text": [
      "Epoch 8 Accuracy: 0.9394572025052192\n"
     ]
    },
    {
     "name": "stderr",
     "output_type": "stream",
     "text": [
      "100%|##########| 360/360 [00:00<00:00, 2376.56it/s]\n",
      "100%|##########| 360/360 [00:00<00:00, 1930.27it/s]\n"
     ]
    }
   ],
   "source": [
    "digits = datasets.load_digits()\n",
    "ims, labs = digits.images, digits.target\n",
    "\n",
    "data = train_test_split(ims, labs, test_size=0.2, random_state=42)\n",
    "\n",
    "X_trainL, X_testL, y_trainL, y_testL = dataprep(Linear_Net(), data=data) \n",
    "X_trainC, X_testC, y_trainC, y_testC = dataprep(Conv_Net(), data=data)\n",
    "\n",
    "rttL, rttC = 3, 8\n",
    "\n",
    "trainerL = Trainer(Linear_Net, X_trainL, y_trainL, X_testL, y_testL)\n",
    "trainerC = Trainer(Conv_Net, X_trainC, y_trainC, X_testC, y_testC)\n",
    "\n",
    "## Train models and get training loss\n",
    "Lloss = trainerL.train(epochs=rttL, plot_loss=True)\n",
    "Closs = trainerC.train(epochs=rttC, plot_loss=True)\n",
    "\n",
    "## Test models and get accuracy\n",
    "accL = trainerL.test()\n",
    "accC = trainerC.test()"
   ]
  },
  {
   "cell_type": "code",
   "execution_count": 3,
   "metadata": {},
   "outputs": [
    {
     "data": {
      "text/plain": [
       "(0.9555555555555556, 0.8555555555555555)"
      ]
     },
     "execution_count": 3,
     "metadata": {},
     "output_type": "execute_result"
    }
   ],
   "source": [
    "accL, accC"
   ]
  },
  {
   "cell_type": "code",
   "execution_count": 4,
   "metadata": {},
   "outputs": [
    {
     "data": {
      "image/png": "[encoded data removed]",
      "text/plain": [
       "<Figure size 2000x1000 with 10 Axes>"
      ]
     },
     "metadata": {},
     "output_type": "display_data"
    }
   ],
   "source": [
    "_, axes = plt.subplots(nrows=1, ncols=10, figsize=(20, 10))\n",
    "for ax, image, label in zip(axes, digits.images, digits.target):\n",
    "    ax.set_axis_off()\n",
    "    ax.imshow(image, cmap=plt.cm.gray_r, interpolation=\"nearest\")\n",
    "    ax.set_title(\"Training: %i\" % label)\n",
    "plt.show()\n",
    "\n",
    "def plot_image(image, target, predicted=None):\n",
    "    if predicted is None:\n",
    "        predicted = [None] * len(target)\n",
    "    n_ims = image.shape[0]\n",
    "\n",
    "    if not n_ims == 1:\n",
    "        _, axes = plt.subplots(nrows=1, ncols=n_ims, figsize=(20, n_ims))\n",
    "        for ax, im, label, pred in zip(axes, image, target, predicted):\n",
    "            ax.set_axis_off()\n",
    "            ax.imshow(im, cmap=plt.cm.gray_r, interpolation=\"nearest\")\n",
    "            ax.set_title(\"Label: %i\" % label)\n",
    "            if pred is not None:\n",
    "                ax.set_title(\"Label: %i, Pred: %i\" % (label, pred))\n",
    "    else:\n",
    "        plt.figure()\n",
    "        plt.axis(\"off\")\n",
    "        plt.imshow(np.squeeze(image[0]), cmap=plt.cm.gray_r, interpolation=\"nearest\")\n",
    "        plt.title(\"Label: {}\".format(target[0]))\n",
    "        if predicted is not None:\n",
    "            plt.title(\"Label: {}, Pred: {}\".format(target[0], predicted[0]))\n",
    "        \n",
    "\n",
    "    plt.show()\n"
   ]
  },
  {
   "cell_type": "code",
   "execution_count": 5,
   "metadata": {},
   "outputs": [
    {
     "name": "stderr",
     "output_type": "stream",
     "text": [
      "100%|##########| 1/1 [00:00<00:00, 993.91it/s]\n"
     ]
    },
    {
     "data": {
      "image/png": "[encoded data removed]",
      "text/plain": [
       "<Figure size 640x480 with 1 Axes>"
      ]
     },
     "metadata": {},
     "output_type": "display_data"
    }
   ],
   "source": [
    "def prep_ims(ims, labs):\n",
    "    if len(ims.shape) == 3:\n",
    "        ims = ims.reshape(ims.shape[0], ims.shape[1], ims.shape[2], 1)\n",
    "\n",
    "    elif len(ims.shape) == 2:\n",
    "        ims = np.array([ims])\n",
    "\n",
    "    if isinstance(labs, np.int32):\n",
    "        labs = np.array([labs])\n",
    "\n",
    "    return ims, labs\n",
    "\n",
    "test_im = digits.images[1000]\n",
    "targs = digits.target[1000]\n",
    "\n",
    "test_im, targs = prep_ims(test_im, targs)\n",
    "test_im.shape, targs.shape\n",
    "\n",
    "preds = trainerL.test(X=test_im)\n",
    "\n",
    "plot_image(test_im, targs, preds)"
   ]
  },
  {
   "cell_type": "code",
   "execution_count": 31,
   "metadata": {},
   "outputs": [
    {
     "name": "stderr",
     "output_type": "stream",
     "text": [
      "100%|##########| 10/10 [00:00<00:00, 1901.23it/s]\n"
     ]
    },
    {
     "data": {
      "text/plain": [
       "array([4., 7., 1., 1., 3., 4., 7., 1., 1., 4.])"
      ]
     },
     "execution_count": 31,
     "metadata": {},
     "output_type": "execute_result"
    }
   ],
   "source": [
    "import pickle\n",
    "\n",
    "with open('drawing/image.pkl', 'rb') as f:\n",
    "    contents = []\n",
    "    while True:\n",
    "        try:\n",
    "            contents.append(pickle.load(f))\n",
    "        except EOFError:\n",
    "            break\n",
    "    contents = np.array(contents)\n",
    "\n",
    "drawn_im, _ = prep_ims(contents, None)\n",
    "preds = trainerL.test(X=drawn_im)\n",
    "preds"
   ]
  },
  {
   "cell_type": "code",
   "execution_count": 27,
   "metadata": {},
   "outputs": [
    {
     "data": {
      "text/plain": [
       "'A NEW DRAWING WINDOW WILL OPEN IN A FEW SECONDS'"
      ]
     },
     "metadata": {},
     "output_type": "display_data"
    }
   ],
   "source": [
    "import threading\n",
    "from drawing.draw_thread import draw_and_save\n",
    "\n",
    "if input('Drawing will commence. Would you like to draw a number in another window? y/[n]') == 'y':\n",
    "    display('A NEW DRAWING WINDOW WILL OPEN IN A FEW SECONDS')\n",
    "\n",
    "    def run_in_thread():\n",
    "        global other_array\n",
    "        other_array = draw_and_save()\n",
    "\n",
    "    thread = threading.Thread(target=run_in_thread)\n",
    "    thread.start()\n",
    "else: display('Drawing will not commence. Please re-run the cell if you would like to draw a number.')\n"
   ]
  },
  {
   "cell_type": "code",
   "execution_count": 28,
   "metadata": {},
   "outputs": [
    {
     "name": "stderr",
     "output_type": "stream",
     "text": [
      "100%|##########| 1/1 [00:00<?, ?it/s]\n"
     ]
    },
    {
     "data": {
      "text/plain": [
       "'Model predicted: 4'"
      ]
     },
     "metadata": {},
     "output_type": "display_data"
    }
   ],
   "source": [
    "drawn_im, _ = prep_ims(other_array, None)\n",
    "pred = trainerL.test(X=drawn_im)\n",
    "display('Model predicted: {}'.format(int(pred[0])))"
   ]
  }
 ],
 "metadata": {
  "kernelspec": {
   "display_name": "mldm",
   "language": "python",
   "name": "python3"
  },
  "language_info": {
   "codemirror_mode": {
    "name": "ipython",
    "version": 3
   },
   "file_extension": ".py",
   "mimetype": "text/x-python",
   "name": "python",
   "nbconvert_exporter": "python",
   "pygments_lexer": "ipython3",
   "version": "3.11.7"
  }
 },
 "nbformat": 4,
 "nbformat_minor": 2
}
