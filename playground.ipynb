{
 "cells": [
  {
   "cell_type": "code",
   "execution_count": 2,
   "metadata": {},
   "outputs": [],
   "source": [
    "from Conv_Model import Conv_Net\n",
    "from Trainer import Trainer\n",
    "from Flat_Model import Linear_Net\n",
    "from main import plot_loss, k_fold_cross_validation\n",
    "\n",
    "import numpy as np\n",
    "from sklearn.model_selection import train_test_split\n",
    "from sklearn import datasets\n",
    "import matplotlib.pyplot as plt"
   ]
  },
  {
   "cell_type": "code",
   "execution_count": 10,
   "metadata": {},
   "outputs": [
    {
     "name": "stdout",
     "output_type": "stream",
     "text": [
      "\n",
      "Epoch: 1/3, Model: Linear_Net\n"
     ]
    },
    {
     "name": "stderr",
     "output_type": "stream",
     "text": [
      "100%|##########| 1438/1438 [00:04<00:00, 289.65it/s]\n"
     ]
    },
    {
     "name": "stdout",
     "output_type": "stream",
     "text": [
      "Epoch 1 Accuracy: 0.8101529902642559\n",
      "\n",
      "Epoch: 2/3, Model: Linear_Net\n"
     ]
    },
    {
     "name": "stderr",
     "output_type": "stream",
     "text": [
      "100%|##########| 1438/1438 [00:04<00:00, 295.17it/s]\n"
     ]
    },
    {
     "name": "stdout",
     "output_type": "stream",
     "text": [
      "Epoch 2 Accuracy: 0.9429763560500696\n",
      "\n",
      "Epoch: 3/3, Model: Linear_Net\n"
     ]
    },
    {
     "name": "stderr",
     "output_type": "stream",
     "text": [
      "100%|##########| 1438/1438 [00:04<00:00, 295.89it/s]\n"
     ]
    },
    {
     "name": "stdout",
     "output_type": "stream",
     "text": [
      "Epoch 3 Accuracy: 0.9534075104311543\n",
      "\n",
      "Epoch: 1/8, Model: Conv_Net\n"
     ]
    },
    {
     "name": "stderr",
     "output_type": "stream",
     "text": [
      "100%|##########| 1438/1438 [00:05<00:00, 261.44it/s]\n"
     ]
    },
    {
     "name": "stdout",
     "output_type": "stream",
     "text": [
      "Epoch 1 Accuracy: 0.5458970792767733\n",
      "\n",
      "Epoch: 2/8, Model: Conv_Net\n"
     ]
    },
    {
     "name": "stderr",
     "output_type": "stream",
     "text": [
      "100%|##########| 1438/1438 [00:05<00:00, 263.43it/s]\n"
     ]
    },
    {
     "name": "stdout",
     "output_type": "stream",
     "text": [
      "Epoch 2 Accuracy: 0.8171070931849791\n",
      "\n",
      "Epoch: 3/8, Model: Conv_Net\n"
     ]
    },
    {
     "name": "stderr",
     "output_type": "stream",
     "text": [
      "100%|##########| 1438/1438 [00:04<00:00, 288.70it/s]\n"
     ]
    },
    {
     "name": "stdout",
     "output_type": "stream",
     "text": [
      "Epoch 3 Accuracy: 0.8678720445062587\n",
      "\n",
      "Epoch: 4/8, Model: Conv_Net\n"
     ]
    },
    {
     "name": "stderr",
     "output_type": "stream",
     "text": [
      "100%|##########| 1438/1438 [00:04<00:00, 300.45it/s]\n"
     ]
    },
    {
     "name": "stdout",
     "output_type": "stream",
     "text": [
      "Epoch 4 Accuracy: 0.9054242002781642\n",
      "\n",
      "Epoch: 5/8, Model: Conv_Net\n"
     ]
    },
    {
     "name": "stderr",
     "output_type": "stream",
     "text": [
      "100%|##########| 1438/1438 [00:05<00:00, 272.17it/s]\n"
     ]
    },
    {
     "name": "stdout",
     "output_type": "stream",
     "text": [
      "Epoch 5 Accuracy: 0.9255910987482615\n",
      "\n",
      "Epoch: 6/8, Model: Conv_Net\n"
     ]
    },
    {
     "name": "stderr",
     "output_type": "stream",
     "text": [
      "100%|##########| 1438/1438 [00:05<00:00, 275.83it/s]\n"
     ]
    },
    {
     "name": "stdout",
     "output_type": "stream",
     "text": [
      "Epoch 6 Accuracy: 0.9339360222531293\n",
      "\n",
      "Epoch: 7/8, Model: Conv_Net\n"
     ]
    },
    {
     "name": "stderr",
     "output_type": "stream",
     "text": [
      "100%|##########| 1438/1438 [00:05<00:00, 256.73it/s]\n"
     ]
    },
    {
     "name": "stdout",
     "output_type": "stream",
     "text": [
      "Epoch 7 Accuracy: 0.9436717663421419\n",
      "\n",
      "Epoch: 8/8, Model: Conv_Net\n"
     ]
    },
    {
     "name": "stderr",
     "output_type": "stream",
     "text": [
      "100%|##########| 1438/1438 [00:05<00:00, 268.96it/s]\n"
     ]
    },
    {
     "name": "stdout",
     "output_type": "stream",
     "text": [
      "Epoch 8 Accuracy: 0.9624478442280946\n"
     ]
    }
   ],
   "source": [
    "digits = datasets.load_digits()\n",
    "ims, labs = digits.images, digits.target\n",
    "\n",
    "X_train, X_test, y_train, y_test = k_fold_cross_validation(ims, labs, 5).__next__()\n",
    "\n",
    "\n",
    "rttL, rttC = 3, 8\n",
    "\n",
    "trainerL = Trainer(Linear_Net, X_train, y_train, X_test, y_test)\n",
    "trainerC = Trainer(Conv_Net, X_train, y_train, X_test, y_test)\n",
    "\n",
    "## Train models and get training loss\n",
    "Lloss, LinTrainAcc = trainerL.train(epochs=rttL, plot_loss=True)\n",
    "Closs, ConTrainAcc = trainerC.train(epochs=rttC, plot_loss=True)\n",
    "\n",
    "## Test models and get accuracy\n",
    "accL = trainerL.test()\n",
    "accC = trainerC.test()"
   ]
  },
  {
   "cell_type": "code",
   "execution_count": 11,
   "metadata": {},
   "outputs": [
    {
     "data": {
      "text/plain": [
       "(0.9526462395543176, 0.9331476323119777)"
      ]
     },
     "execution_count": 11,
     "metadata": {},
     "output_type": "execute_result"
    }
   ],
   "source": [
    "accL, accC"
   ]
  },
  {
   "cell_type": "code",
   "execution_count": 12,
   "metadata": {},
   "outputs": [
    {
     "data": {
      "image/png": "[encoded data removed]",
      "text/plain": [
       "<Figure size 2000x1000 with 10 Axes>"
      ]
     },
     "metadata": {},
     "output_type": "display_data"
    }
   ],
   "source": [
    "_, axes = plt.subplots(nrows=1, ncols=10, figsize=(20, 10))\n",
    "for ax, image, label in zip(axes, digits.images, digits.target):\n",
    "    ax.set_axis_off()\n",
    "    ax.imshow(image, cmap=plt.cm.gray_r, interpolation=\"nearest\")\n",
    "    ax.set_title(\"Training: %i\" % label)\n",
    "plt.show()\n",
    "\n",
    "def plot_image(image, target, predicted=None):\n",
    "    if predicted is None:\n",
    "        predicted = [None] * len(target)\n",
    "    n_ims = image.shape[0]\n",
    "\n",
    "    if not n_ims == 1:\n",
    "        _, axes = plt.subplots(nrows=1, ncols=n_ims, figsize=(20, n_ims))\n",
    "        for ax, im, label, pred in zip(axes, image, target, predicted):\n",
    "            ax.set_axis_off()\n",
    "            ax.imshow(im, cmap=plt.cm.gray_r, interpolation=\"nearest\")\n",
    "            ax.set_title(\"Label: %i\" % label)\n",
    "            if pred is not None:\n",
    "                ax.set_title(\"Label: %i, Pred: %i\" % (label, pred))\n",
    "    else:\n",
    "        plt.figure()\n",
    "        plt.axis(\"off\")\n",
    "        plt.imshow(np.squeeze(image[0]), cmap=plt.cm.gray_r, interpolation=\"nearest\")\n",
    "        plt.title(\"Label: {}\".format(target[0]))\n",
    "        if predicted is not None:\n",
    "            plt.title(\"Label: {}, Pred: {}\".format(target[0], predicted[0]))\n",
    "        \n",
    "\n",
    "    plt.show()\n"
   ]
  },
  {
   "cell_type": "code",
   "execution_count": 13,
   "metadata": {},
   "outputs": [
    {
     "data": {
      "image/png": "[encoded data removed]",
      "text/plain": [
       "<Figure size 2000x300 with 3 Axes>"
      ]
     },
     "metadata": {},
     "output_type": "display_data"
    }
   ],
   "source": [
    "def prep_ims(ims, labs):\n",
    "    if len(ims.shape) == 3:\n",
    "        ims = ims.reshape(ims.shape[0], ims.shape[1], ims.shape[2], 1)\n",
    "\n",
    "    elif len(ims.shape) == 2:\n",
    "        ims = np.array([ims])\n",
    "\n",
    "    if isinstance(labs, np.int32):\n",
    "        labs = np.array([labs])\n",
    "\n",
    "    return ims, labs\n",
    "\n",
    "test_im = digits.images[1000:1003]\n",
    "targs = digits.target[1000:1003]\n",
    "\n",
    "test_im, targs = prep_ims(test_im, targs)\n",
    "test_im.shape, targs.shape\n",
    "\n",
    "preds, conf = trainerL.test(X=test_im)\n",
    "pred2, conf2 = trainerC.test(X=test_im)\n",
    "\n",
    "plot_image(test_im, targs, preds)"
   ]
  },
  {
   "cell_type": "code",
   "execution_count": 14,
   "metadata": {},
   "outputs": [
    {
     "data": {
      "text/plain": [
       "array([4., 7., 1., 1., 4., 4., 7., 7., 7., 9., 4., 7.])"
      ]
     },
     "execution_count": 14,
     "metadata": {},
     "output_type": "execute_result"
    }
   ],
   "source": [
    "import pickle\n",
    "\n",
    "with open('drawing/image.pkl', 'rb') as f:\n",
    "    contents = []\n",
    "    while True:\n",
    "        try:\n",
    "            contents.append(pickle.load(f))\n",
    "        except EOFError:\n",
    "            break\n",
    "    contents = np.array(contents)\n",
    "\n",
    "drawn_im, _ = prep_ims(contents, None)\n",
    "preds, conf = trainerL.test(X=drawn_im)\n",
    "preds"
   ]
  },
  {
   "cell_type": "code",
   "execution_count": 12,
   "metadata": {},
   "outputs": [
    {
     "data": {
      "text/plain": [
       "'A NEW DRAWING WINDOW WILL OPEN IN A FEW SECONDS'"
      ]
     },
     "metadata": {},
     "output_type": "display_data"
    }
   ],
   "source": [
    "import threading\n",
    "from drawing.draw_thread import draw_and_save\n",
    "\n",
    "if input('Drawing will commence. Would you like to draw a number in another window? y/[n]') == 'y':\n",
    "    display('A NEW DRAWING WINDOW WILL OPEN IN A FEW SECONDS')\n",
    "\n",
    "    def run_in_thread():\n",
    "        global other_array\n",
    "        other_array = draw_and_save()\n",
    "\n",
    "    thread = threading.Thread(target=run_in_thread)\n",
    "    thread.start()\n",
    "else: display('Drawing will not commence. Please re-run the cell if you would like to draw a number.')\n"
   ]
  },
  {
   "cell_type": "code",
   "execution_count": 13,
   "metadata": {},
   "outputs": [
    {
     "data": {
      "text/plain": [
       "'Model predicted: 4'"
      ]
     },
     "metadata": {},
     "output_type": "display_data"
    }
   ],
   "source": [
    "try:\n",
    "    drawn_im, _ = prep_ims(other_array, None)\n",
    "    pred, conf = trainerL.test(X=drawn_im)\n",
    "    display('Model predicted: {}'.format(int(pred[0])))\n",
    "except NameError:\n",
    "    display('Drawing did not commence. Please re-run the cell above if you would like to draw a number.')"
   ]
  }
 ],
 "metadata": {
  "kernelspec": {
   "display_name": "mldm",
   "language": "python",
   "name": "python3"
  },
  "language_info": {
   "codemirror_mode": {
    "name": "ipython",
    "version": 3
   },
   "file_extension": ".py",
   "mimetype": "text/x-python",
   "name": "python",
   "nbconvert_exporter": "python",
   "pygments_lexer": "ipython3",
   "version": "3.11.7"
  }
 },
 "nbformat": 4,
 "nbformat_minor": 2
}
